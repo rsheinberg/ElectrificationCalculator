{
 "cells": [
  {
   "cell_type": "markdown",
   "id": "87d20e11",
   "metadata": {},
   "source": [
    "Note: Defining Logic for EV Usage and Load (Don't need NREL loads) \n",
    "July 2023\n",
    "Rachel Sheinberg"
   ]
  },
  {
   "cell_type": "markdown",
   "id": "00277a0a",
   "metadata": {},
   "source": [
    "Step 1: Import Data from Current Interface Type (Excel Spreadsheet)"
   ]
  },
  {
   "cell_type": "code",
   "execution_count": 24,
   "id": "0ab5dce4",
   "metadata": {},
   "outputs": [],
   "source": [
    "import os\n",
    "import pandas as pd\n",
    "import numpy as np"
   ]
  },
  {
   "cell_type": "code",
   "execution_count": 80,
   "id": "e9b31904",
   "metadata": {},
   "outputs": [],
   "source": [
    "file_path = r'C:/Users/Rachel/OneDrive - UCLA IT Services/Documents/DWP_Electrification_Cal/electric_calculator.xlsm'\n",
    "# Read Dataframe from Excel file\n",
    "inputs = pd.read_excel(file_path, sheet_name='Python')"
   ]
  },
  {
   "cell_type": "markdown",
   "id": "0f79a79d",
   "metadata": {},
   "source": [
    "Calculate Pre-Transition Fuel Cost"
   ]
  },
  {
   "cell_type": "code",
   "execution_count": 81,
   "id": "536abae6",
   "metadata": {},
   "outputs": [],
   "source": [
    "current_car = inputs.iloc[13,1]\n",
    "vmt = inputs.iloc[15,1] if inputs.iloc[15,1] != 0 else 10000\n",
    "current_mpg = inputs.iloc[14,1]\n",
    "gas_price = inputs.iloc[10,1]\n",
    "if current_car == 'None':\n",
    "    start_gas_cost = 0\n",
    "elif current_car == 'Gasoline Car/Sedan' or current_car == 'Gasoline Light Truck/Van/SUV':\n",
    "    ## cost before EV \n",
    "    gas_consumed = vmt/current_mpg\n",
    "    start_gas_cost = gas_price * gas_consumed\n",
    "else: \n",
    "    start_gas_cost = 0 \n",
    "    ## assuming electric cost is already baked in via load \n",
    "start_daily_gas_cost = start_gas_cost/365"
   ]
  },
  {
   "cell_type": "code",
   "execution_count": null,
   "id": "e2bba474",
   "metadata": {},
   "outputs": [],
   "source": [
    "Calculate Post-Transition Electricity Cost "
   ]
  },
  {
   "cell_type": "code",
   "execution_count": 82,
   "id": "6a9836d4",
   "metadata": {},
   "outputs": [],
   "source": [
    "ev_mpge = 93 if current_car == \"Gasoline Light Truck/Van/SUV\" else 93\n",
    "transition = inputs.iloc[12,1]\n",
    "if transition == 'None':\n",
    "    upgrade_gas_cost = start_gas_cost\n",
    "    e_trans_consumed = 0 \n",
    "    e_trans_consumed_daily = 0 \n",
    "elif transition == 'Solar PV':\n",
    "    upgrade_gas_cost = start_gas_cost\n",
    "    e_trans_consumed = 0\n",
    "    e_trans_consumed_daily = 0 \n",
    "else:\n",
    "    upgrade_gas_cost = 0\n",
    "    ge_consumed = vmt/ev_mpge\n",
    "    e_trans_consumed = ge_consumed * 33.7 ## assuming 1 gallon equivalent ~ 33.7 kWh\n",
    "    e_trans_consumed_daily = e_trans_consumed/365\n",
    "upgrade_daily_gas_cost = upgrade_gas_cost/365"
   ]
  },
  {
   "cell_type": "code",
   "execution_count": 88,
   "id": "667b4a36",
   "metadata": {},
   "outputs": [
    {
     "name": "stdout",
     "output_type": "stream",
     "text": [
      "Monthly EV electricity usage after upgrade (kWh):\n",
      "[307.76255708 277.97908381 307.76255708 297.83473266 307.76255708\n",
      " 297.83473266 307.76255708 307.76255708 297.83473266 307.76255708\n",
      " 297.83473266 307.76255708]\n",
      "Monthly EV external electricity cost after upgrade ($):\n",
      "[0 0 0 0 0 0 0 0 0 0 0 0]\n",
      "Monthly gasoline cost before upgrade ($):\n",
      "[163.06849315 147.28767123 163.06849315 157.80821918 163.06849315\n",
      " 157.80821918 163.06849315 163.06849315 157.80821918 163.06849315\n",
      " 157.80821918 163.06849315]\n",
      "Monthly gasoline cost after upgrade ($):\n",
      "[0. 0. 0. 0. 0. 0. 0. 0. 0. 0. 0. 0.]\n"
     ]
    }
   ],
   "source": [
    "ev_charging = inputs.iloc[16,1]\n",
    "### residential charging \n",
    "if ev_charging == \"Residential/Overnight\":\n",
    "    charge_hours = e_trans_consumed_daily/7.6 #assuming charge rate is 7.6 kW \n",
    "    trans_charge_load = e_trans_consumed_daily/charge_hours ## this will be useful for TOU pricing, not using for now\n",
    "    e_trans_cost_daily = 0 \n",
    "    ### non-residential charging\n",
    "elif ev_charging == 'Public or Workplace/Daytime Level 2': \n",
    "    e_trans_cost_daily = e_trans_consumed_daily * 0.29 ## assuming $0.29 per kwh\n",
    "    e_trans_consumed_daily = 0 \n",
    "elif ev_charging == 'Public or Workplace/Daytime DCFC': \n",
    "    e_trans_cost_daily = e_trans_consumed_daily * 0.42 ## assuming $0.42 per kwh\n",
    "    e_trans_consumed_daily = 0 \n",
    "else: \n",
    "    e_trans_cost_daily = 0 \n",
    "    e_trans_consumed_daily = 0 \n",
    "## making an array to add on to monthly sums \n",
    "# Define the number of days in each month\n",
    "days_in_month = [31, 28, 31, 30, 31, 30, 31, 31, 30, 31, 30, 31]\n",
    "## start electric cost will always be zero -- assumed to be included in the load\n",
    "## will just need to add upgrade electric load, upgrade electric cost, start and upgrade gas cost\n",
    "start_gas_cost = np.array(days_in_month) * start_daily_gas_cost\n",
    "upgrade_gas_cost = np.array(days_in_month) * upgrade_daily_gas_cost\n",
    "upgrade_res_ev_load = np.array(days_in_month) * e_trans_consumed_daily\n",
    "upgrade_res_ev_cost = np.array(days_in_month) * e_trans_cost_daily\n",
    "print('Monthly EV electricity usage after upgrade (kWh):')\n",
    "print(upgrade_res_ev_load)   \n",
    "print('Monthly EV external electricity cost after upgrade ($):') \n",
    "print(upgrade_res_ev_cost)\n",
    "print('Monthly gasoline cost before upgrade ($):')\n",
    "print(start_gas_cost)\n",
    "print('Monthly gasoline cost after upgrade ($):')\n",
    "print(upgrade_gas_cost)"
   ]
  },
  {
   "cell_type": "code",
   "execution_count": null,
   "id": "70d025bd",
   "metadata": {},
   "outputs": [],
   "source": [
    "plot(upgrade_res_ev_c)"
   ]
  },
  {
   "cell_type": "code",
   "execution_count": null,
   "id": "2f684b0f",
   "metadata": {},
   "outputs": [],
   "source": []
  }
 ],
 "metadata": {
  "kernelspec": {
   "display_name": "Python 3 (ipykernel)",
   "language": "python",
   "name": "python3"
  },
  "language_info": {
   "codemirror_mode": {
    "name": "ipython",
    "version": 3
   },
   "file_extension": ".py",
   "mimetype": "text/x-python",
   "name": "python",
   "nbconvert_exporter": "python",
   "pygments_lexer": "ipython3",
   "version": "3.9.7"
  }
 },
 "nbformat": 4,
 "nbformat_minor": 5
}
