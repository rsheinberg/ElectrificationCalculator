{
 "cells": [
  {
   "cell_type": "markdown",
   "id": "aefb618b",
   "metadata": {},
   "source": [
    "Rachel Sheinberg\n",
    "July 2023"
   ]
  },
  {
   "cell_type": "markdown",
   "id": "8fc5d841",
   "metadata": {},
   "source": [
    "Step 1: Importing Original Folders "
   ]
  },
  {
   "cell_type": "code",
   "execution_count": 1,
   "id": "e95dc21c",
   "metadata": {},
   "outputs": [
    {
     "name": "stdout",
     "output_type": "stream",
     "text": [
      "done\n"
     ]
    }
   ],
   "source": [
    "import os\n",
    "import pandas as pd\n",
    "\n",
    "# Define the root directory where your folders are located\n",
    "root_directory = 'C:/Users/Rachel/OneDrive - UCLA IT Services/Documents/DWP_Electrification_Cal/data/data/'\n",
    "\n",
    "# Create an empty dictionary to store the DataFrames\n",
    "df_dict = {}\n",
    "\n",
    "# Iterate over each folder\n",
    "folders = os.listdir(root_directory)\n",
    "for folder_name in folders:\n",
    "    folder_path = os.path.join(root_directory, folder_name)\n",
    "    \n",
    "    # Check if the path is a directory\n",
    "    if os.path.isdir(folder_path):\n",
    "    \n",
    "        # Get a list of files in the folder\n",
    "        files = os.listdir(folder_path)\n",
    "        \n",
    "        # Iterate over each file in the folder\n",
    "        for file_name in files:\n",
    "            file_path = os.path.join(folder_path, file_name)\n",
    "            \n",
    "            # Check if the path is a file\n",
    "            if os.path.isfile(file_path):\n",
    "            \n",
    "                # Read the file as a DataFrame and store it in the dictionary\n",
    "                key = os.path.join(folder_name, file_name)\n",
    "                df = pd.read_csv(file_path)\n",
    "        \n",
    "                \n",
    "                # Select specific columns\n",
    "                selected_columns = ['timestamp',\n",
    "                                   'units_represented','out.site_energy.total.energy_consumption.kwh',\n",
    "                                   'out.electricity.total.energy_consumption.kwh','out.fuel_oil.total.energy_consumption.kwh',\n",
    "                                   'out.natural_gas.total.energy_consumption.kwh','out.propane.total.energy_consumption.kwh',\n",
    "                                    ]\n",
    "                df = df[selected_columns]\n",
    "               \n",
    "                # Accounting for units represented to get load of single unit\n",
    "                df['elec.consumed'] = df['out.electricity.total.energy_consumption.kwh'] / df['units_represented']\n",
    "                df['nat_gas.consumed'] = df['out.natural_gas.total.energy_consumption.kwh'] / df['units_represented']\n",
    "                df['total.consumed'] = df['out.site_energy.total.energy_consumption.kwh'] / df['units_represented']\n",
    "                df['elec.load'] = df['elec.consumed'] / .25\n",
    "                df['nat_gas.load'] = df['nat_gas.consumed'] / .25\n",
    "                df['total_load'] = df['total.consumed'] / .25\n",
    "                df_dict[key] = df\n",
    "print('done')"
   ]
  },
  {
   "cell_type": "markdown",
   "id": "8873c28c",
   "metadata": {},
   "source": [
    "Step 2: Create Dictionary for User Interface"
   ]
  },
  {
   "cell_type": "code",
   "execution_count": 2,
   "id": "7a368e88",
   "metadata": {},
   "outputs": [],
   "source": [
    "# creating a dictionary to match the names i've assigned the folders to the excel values\n",
    "\n",
    "# first get the strings from excel options\n",
    "nrel = df_dict.keys()\n",
    "excel_homes = (\"Mobile Home\", \"Multi-Family 2-4 Units\", \"Multi-Family 5+ Units\", \"Single Family Attached\", \"Single Family Detached\")\n",
    "excel_upgrades = (\"Baseline\", \"Basic Enclosure\", \"Enhanced Enclosure\", \"Heat Pumps and High Efficiency Electric Backup\",\n",
    "                  \"Heat Pumps and Min Efficiency Electric Backup\",\"Heat Pumps and Min Efficiency, Existing Heating as Backup\",\n",
    "                  \"Heat Pump Water Heaters\", \"Whole Home Electrification High Efficiency\", \"Whole Home Electrification High Efficiency Plus Basic Enclosure Package\",\n",
    "                  \"Whole Home Electrification High Efficiency Plus Enhanced Enclosure Package\", \"Whole Home Electrification Min Efficiency\")\n",
    "\n",
    "# Creating a third list by concatenating strings from list1 and list2\n",
    "excel = []\n",
    "for string1 in excel_upgrades:\n",
    "    for string2 in excel_homes:\n",
    "        excel.append(string1 + \": \" + string2)\n",
    "        \n",
    "# Creating a dictionary using a loop and zip()\n",
    "excel_to_nrel = {}\n",
    "for excel, nrel in zip(excel, nrel):\n",
    "    excel_to_nrel[excel] = nrel\n",
    "\n",
    "## I now have a dictionary to transfer from excel to the file name, and a dictionary to tranfer from the file name to values \n",
    "## within that file! "
   ]
  },
  {
   "cell_type": "markdown",
   "id": "9e6fdee3",
   "metadata": {},
   "source": [
    "Step 3: Import Data from Current Interface Type (Excel Spreadsheet) "
   ]
  },
  {
   "cell_type": "code",
   "execution_count": 3,
   "id": "48524a85",
   "metadata": {
    "scrolled": true
   },
   "outputs": [],
   "source": [
    "file_path = r'C:/Users/Rachel/OneDrive - UCLA IT Services/Documents/DWP_Electrification_Cal/electric_calculator.xlsm'\n",
    "# Read Dataframe from Excel file\n",
    "inputs = pd.read_excel(file_path, sheet_name='Python')"
   ]
  },
  {
   "cell_type": "code",
   "execution_count": 4,
   "id": "159503d8",
   "metadata": {},
   "outputs": [],
   "source": [
    "# selecting the correct files from user input -- using dictionary \n",
    "start = str(inputs.iloc[1,1]) + \": \" + str(inputs.iloc[0,1]) ## combining starting electrification and home type\n",
    "upgrade = str(inputs.iloc[2,1]) + \": \" + str(inputs.iloc[0,1]) ## combining upgrade and home type\n",
    "upgrade_only = str(inputs.iloc[2,1])\n",
    "nrel_start = excel_to_nrel[start] ## translate to nrel filename\n",
    "start_data = df_dict[nrel_start] ## select data from the dictionary \n",
    "nrel_upgrade = excel_to_nrel[upgrade] ## translate to nrel filename\n",
    "upgrade_data = df_dict[nrel_upgrade] ## select data from the dictionary "
   ]
  },
  {
   "cell_type": "code",
   "execution_count": 5,
   "id": "410ad51d",
   "metadata": {},
   "outputs": [],
   "source": [
    "import matplotlib.pyplot as plt\n",
    "import numpy as np\n",
    "from matplotlib.dates import DateFormatter\n",
    "\n",
    "# Retrieve the column data from the four columns I care about here for the starting  loads \n",
    "timestamps = pd.to_datetime(start_data['timestamp'])\n",
    "start_elec_values = start_data['elec.consumed']\n",
    "start_gas_values = start_data['nat_gas.consumed']\n",
    "start_total_values = start_data['total.consumed']\n",
    "start_elec_load = start_data['elec.load']\n",
    "\n",
    "# Retrieve the column data from the four columns i care about here - ending loads\n",
    "upgrade_timestamps = pd.to_datetime(upgrade_data['timestamp'])\n",
    "upgrade_elec_values = upgrade_data['elec.consumed']\n",
    "upgrade_gas_values = upgrade_data['nat_gas.consumed']\n",
    "upgrade_total_values = upgrade_data['total.consumed']\n",
    "upgrade_elec_load = upgrade_data['elec.load']"
   ]
  },
  {
   "cell_type": "code",
   "execution_count": 6,
   "id": "f498c77d",
   "metadata": {},
   "outputs": [],
   "source": [
    "## normalizing starting values\n",
    "total = sum(start_elec_values)  # Calculate the sum of all values\n",
    "scaled_start_elec_values = [x/total for x in start_elec_values]  # Scale each value\n",
    "total = sum(start_gas_values)  # Calculate the sum of all values\n",
    "scaled_start_gas_values = [x/total for x in start_gas_values]  # Scale each value\n",
    "total = sum(start_total_values)  # Calculate the sum of all values\n",
    "scaled_start_total_values = [x/total for x in start_total_values]  # Scale each value\n",
    "total = sum(start_elec_load) \n",
    "scaled_start_elec_load = [x/total for x in start_elec_load]\n",
    "\n",
    "## normalizing upgrade values\n",
    "total = sum(upgrade_elec_values)  # Calculate the sum of all values\n",
    "scaled_upgrade_elec_values = [x/total for x in upgrade_elec_values]  # Scale each value\n",
    "total = sum(upgrade_gas_values)  # Calculate the sum of all values\n",
    "scaled_upgrade_gas_values = [x/total for x in upgrade_gas_values]  # Scale each value\n",
    "total = sum(upgrade_total_values)  # Calculate the sum of all values\n",
    "scaled_upgrade_total_values = [x/total for x in upgrade_total_values]  # Scale each value\n",
    "total = sum(upgrade_elec_load) \n",
    "scaled_upgrade_elec_load = [x/total for x in upgrade_elec_load]"
   ]
  },
  {
   "cell_type": "markdown",
   "id": "7ad1b154",
   "metadata": {},
   "source": [
    "Step 4: Scale up with User Inputs"
   ]
  },
  {
   "cell_type": "code",
   "execution_count": 7,
   "id": "ee57580b",
   "metadata": {
    "scrolled": true
   },
   "outputs": [],
   "source": [
    "file_path = r'C:\\Users\\Rachel\\OneDrive - UCLA IT Services\\Documents\\DWP_Electrification_Cal\\Multipliers.csv'\n",
    "multipliers = pd.read_csv(file_path) ## using multipliers between starting and ending upgrade status\n",
    "multiplier_key = nrel_start + \"\\\\\" + nrel_upgrade.split(\"\\\\\")[0] ## identify correct multiplier based on user inputs"
   ]
  },
  {
   "cell_type": "code",
   "execution_count": 8,
   "id": "26b61cc3",
   "metadata": {},
   "outputs": [],
   "source": [
    " #identify specific multipliers for the user-entered combination, based on start and end type and elec and nat gas usage\n",
    "vals = multipliers[multipliers['name'] == multiplier_key] ## multipliers based on start type --> end type \n",
    "\n",
    "# create multipliers based on user inputted annual energy use\n",
    "start_elec_mult = float(inputs.iloc[3,1]) ## user inputted electricity usage\n",
    "upgrade_elec_mult = float(inputs.iloc[3,1] * vals['elec_mult'].iloc[0]) ## user inputted usage multiplied for upgrade type\n",
    "start_nat_gas_mult = float(inputs.iloc[4,1]*29.3) ## user inputted natural gas usage\n",
    "upgrade_nat_gas_mult = float(inputs.iloc[4,1]*29.3 * vals['nat_gas_mult'].iloc[0]) ## user inputted usage multiplied for upgrade type\n",
    "start_total_mult = float(inputs.iloc[3,1]+ inputs.iloc[4,1]*29.3) ## total usage, sum of electricity inputted and natural gas; translating natural gas therms to kwh \n",
    "upgrade_total_mult = float((inputs.iloc[3,1]+inputs.iloc[4,1]*29.3) * vals['total_mult'].iloc[0]) ## total usage multiplied for upgrade type\n",
    "start_elec_load_mult = float(inputs.iloc[3,1]*4) ## user inputted electricity usage divided by hours in the year to get load\n",
    "upgrade_elec_load_mult = float(inputs.iloc[3,1]*4*vals['elec_mult'].iloc[0]) ## elec load multiplied for upgrade type "
   ]
  },
  {
   "cell_type": "code",
   "execution_count": 9,
   "id": "b9f44e43",
   "metadata": {
    "scrolled": false
   },
   "outputs": [],
   "source": [
    "## Create a new dataframe containing scaled up values for the starting and ending upgrade statuses \n",
    "\n",
    "start_elec_vals = [x * start_elec_mult for x in scaled_start_elec_values] ## starting electricity usage\n",
    "upgrade_elec_vals = [x * upgrade_elec_mult for x in scaled_upgrade_elec_values] ## upgrade electricity usage\n",
    "start_nat_gas_vals = [x * start_nat_gas_mult for x in scaled_start_gas_values] ## starting natural gas usage\n",
    "upgrade_nat_gas_vals = [x * upgrade_nat_gas_mult for x in scaled_upgrade_gas_values] ## upgrade natural gas usage\n",
    "start_total_vals = [x * start_total_mult for x in scaled_start_total_values] ## starting total usage\n",
    "upgrade_total_vals = [x * upgrade_total_mult for x in scaled_upgrade_total_values] ## upgrage total usage\n",
    "start_elec_load = [x * start_elec_load_mult for x in scaled_start_elec_load]\n",
    "upgrade_elec_load = [x * upgrade_elec_load_mult for x in scaled_upgrade_elec_load]\n",
    "df = pd.DataFrame({\n",
    "    'Timestamps': timestamps,\n",
    "    'start_elec_vals': start_elec_vals,\n",
    "    'upgrade_elec_vals': upgrade_elec_vals,\n",
    "    'start_nat_gas_vals': start_nat_gas_vals,\n",
    "    'upgrade_nat_gas_vals': upgrade_nat_gas_vals,\n",
    "    'start_total_vals': start_total_vals,\n",
    "    'upgrade_total_vals': upgrade_total_vals,\n",
    "    'start_elec_load' : start_elec_load,\n",
    "    'upgrade_elec_load' : upgrade_elec_load\n",
    "    \n",
    "})\n"
   ]
  },
  {
   "cell_type": "markdown",
   "id": "f3b4535c",
   "metadata": {},
   "source": [
    "Step 6: Plot the Energy use before and after upgrade"
   ]
  },
  {
   "cell_type": "code",
   "execution_count": 10,
   "id": "33304b85",
   "metadata": {
    "scrolled": true
   },
   "outputs": [
    {
     "data": {
      "image/png": "[encoded data removed]",
      "text/plain": [
       "<Figure size 576x360 with 1 Axes>"
      ]
     },
     "metadata": {
      "needs_background": "dark"
     },
     "output_type": "display_data"
    }
   ],
   "source": [
    "# Plotting the natural gas use before and after \n",
    "fig = plt.figure(figsize=(8, 5))\n",
    "plt.plot(timestamps, start_elec_vals)\n",
    "plt.plot(timestamps, upgrade_elec_vals, alpha = 0.75)\n",
    "plt.xlabel('Date', color = 'white')\n",
    "plt.ylabel('Usage (kWh)', color = 'white')\n",
    "plt.title('Household Electricity Usage - ' + start + \" vs. \" + upgrade_only, color = 'white')\n",
    "\n",
    "#Set the tick locations and labels for the horizontal axis\n",
    "tick_positions = pd.date_range(start=min(timestamps), end=max(timestamps), freq='MS')\n",
    "months = tick_positions.strftime('%b')\n",
    "plt.xticks(tick_positions, months)\n",
    "\n",
    "# Rotate the tick labels if needed\n",
    "plt.xticks(rotation=45, color = 'white')\n",
    "plt.yticks(color = 'white')\n",
    "plt.legend(['Starting', 'After Upgrade'])\n",
    "plt.show()"
   ]
  },
  {
   "cell_type": "code",
   "execution_count": 11,
   "id": "bf058043",
   "metadata": {},
   "outputs": [
    {
     "data": {
      "image/png": "[encoded data removed]",
      "text/plain": [
       "<Figure size 576x360 with 1 Axes>"
      ]
     },
     "metadata": {
      "needs_background": "dark"
     },
     "output_type": "display_data"
    }
   ],
   "source": [
    "# Plotting the natural gas use before and after \n",
    "fig = plt.figure(figsize=(8, 5))\n",
    "plt.plot(timestamps, start_nat_gas_vals)\n",
    "plt.plot(timestamps, upgrade_nat_gas_vals)\n",
    "plt.xlabel('Date', color = 'white')\n",
    "plt.ylabel('Usage (kWh)', color = 'white')\n",
    "plt.title('Household Natural Gas Usage - ' + start + \" vs. \" + upgrade_only, color = 'white')\n",
    "\n",
    "#Set the tick locations and labels for the horizontal axis\n",
    "tick_positions = pd.date_range(start=min(timestamps), end=max(timestamps), freq='MS')\n",
    "months = tick_positions.strftime('%b')\n",
    "plt.xticks(tick_positions, months)\n",
    "\n",
    "# Rotate the tick labels if needed\n",
    "plt.xticks(rotation=45, color = 'white')\n",
    "plt.yticks(color = 'white')\n",
    "plt.legend(['Starting', 'After Upgrade'])           \n",
    "plt.show()"
   ]
  },
  {
   "cell_type": "code",
   "execution_count": 12,
   "id": "8840b859",
   "metadata": {},
   "outputs": [
    {
     "data": {
      "image/png": "[encoded data removed]",
      "text/plain": [
       "<Figure size 576x360 with 1 Axes>"
      ]
     },
     "metadata": {
      "needs_background": "dark"
     },
     "output_type": "display_data"
    }
   ],
   "source": [
    "# Plotting the natural gas use before and after \n",
    "fig = plt.figure(figsize=(8, 5))\n",
    "plt.plot(timestamps, start_total_vals)\n",
    "plt.plot(timestamps, upgrade_total_vals, alpha = 0.7)\n",
    "plt.xlabel('Date', color = 'white')\n",
    "plt.ylabel('Usage (kWh)', color = 'white')\n",
    "plt.title('Household Total Energy Usage - ' + start + \" vs. \" + upgrade_only, color = 'white')\n",
    "\n",
    "#Set the tick locations and labels for the horizontal axis\n",
    "tick_positions = pd.date_range(start=min(timestamps), end=max(timestamps), freq='MS')\n",
    "months = tick_positions.strftime('%b')\n",
    "plt.xticks(tick_positions, months)\n",
    "\n",
    "# Rotate the tick labels if needed\n",
    "plt.xticks(rotation=45, color = 'white')\n",
    "plt.yticks(color = 'white')\n",
    "plt.legend(['Starting', 'After Upgrade'])\n",
    "plt.show()"
   ]
  },
  {
   "cell_type": "code",
   "execution_count": 13,
   "id": "b4b0dd9c",
   "metadata": {},
   "outputs": [
    {
     "data": {
      "image/png": "[encoded data removed]",
      "text/plain": [
       "<Figure size 576x360 with 1 Axes>"
      ]
     },
     "metadata": {
      "needs_background": "dark"
     },
     "output_type": "display_data"
    }
   ],
   "source": [
    "# Plotting the natural gas use before and after \n",
    "fig = plt.figure(figsize=(8, 5))\n",
    "plt.plot(timestamps, start_elec_load)\n",
    "plt.plot(timestamps, upgrade_elec_load, alpha = 0.75)\n",
    "plt.xlabel('Date', color = 'white')\n",
    "plt.ylabel('Usage (kWh)', color = 'white')\n",
    "plt.title('Household Electricity Load - ' + start + \" vs. \" + upgrade_only, color = 'white')\n",
    "\n",
    "#Set the tick locations and labels for the horizontal axis\n",
    "tick_positions = pd.date_range(start=min(timestamps), end=max(timestamps), freq='MS')\n",
    "months = tick_positions.strftime('%b')\n",
    "plt.xticks(tick_positions, months)\n",
    "\n",
    "# Rotate the tick labels if needed\n",
    "plt.xticks(rotation=45, color = 'white')\n",
    "plt.yticks(color = 'white')\n",
    "plt.legend(['Starting', 'After Upgrade'])\n",
    "plt.show()"
   ]
  },
  {
   "cell_type": "code",
   "execution_count": 14,
   "id": "7e1635b8",
   "metadata": {
    "scrolled": false
   },
   "outputs": [
    {
     "name": "stdout",
     "output_type": "stream",
     "text": [
      "     datetime  start_elec_vals  upgrade_elec_vals  start_nat_gas_vals  \\\n",
      "0  2018-01-31       245.483577         253.918728         1020.886863   \n",
      "1  2018-02-28       221.886414         229.349965          916.221898   \n",
      "2  2018-03-31       229.085062         234.632802          934.981919   \n",
      "3  2018-04-30       229.845605         228.594793          779.958058   \n",
      "4  2018-05-31       235.405429         233.727805          757.024228   \n",
      "5  2018-06-30       254.584940         249.360354          667.471529   \n",
      "6  2018-07-31       308.668873         300.645353          650.054966   \n",
      "7  2018-08-31       302.041106         294.160088          651.747919   \n",
      "8  2018-09-30       263.894268         257.411047          662.402809   \n",
      "9  2018-10-31       244.356831         240.432656          746.068736   \n",
      "10 2018-11-30       222.241030         225.656030          848.258079   \n",
      "11 2018-12-31       242.396162         252.472070         1033.463993   \n",
      "12 2019-01-31         0.110704           0.118043            0.459004   \n",
      "\n",
      "    upgrade_nat_gas_vals  start_total_vals  upgrade_total_vals  \\\n",
      "0             454.476207       1146.431551          890.677492   \n",
      "1             406.227133       1033.101141          802.521440   \n",
      "2             374.217677       1061.975032          801.560904   \n",
      "3             239.928587        990.059938          722.310436   \n",
      "4             225.431025        993.942544          729.232162   \n",
      "5             174.505246       1001.956640          746.960262   \n",
      "6             162.953950       1137.710102          878.220704   \n",
      "7             165.601559       1120.809323          862.170134   \n",
      "8             169.910729       1024.289971          766.271606   \n",
      "9             207.965562       1012.496018          738.863408   \n",
      "10            316.452890       1001.984043          750.425666   \n",
      "11            488.578367       1143.728222          902.768276   \n",
      "12              0.220729          0.515475            0.418563   \n",
      "\n",
      "    start_elec_load  upgrade_elec_load  start_elec_cost  upgrade_elec_cost  \n",
      "0        981.934307        1015.674911                0                  0  \n",
      "1        887.545654         917.399858                0                  0  \n",
      "2        916.340247         938.531209                0                  0  \n",
      "3        919.382422         914.379172                0                  0  \n",
      "4        941.621718         934.911220                0                  0  \n",
      "5       1018.339759         997.441415                0                  0  \n",
      "6       1234.675491        1202.581414                0                  0  \n",
      "7       1208.164424        1176.640352                0                  0  \n",
      "8       1055.577071        1029.644189                0                  0  \n",
      "9        977.427324         961.730623                0                  0  \n",
      "10       888.964120         902.624118                0                  0  \n",
      "11       969.584648        1009.888280                0                  0  \n",
      "12         0.442815           0.472172                0                  0  \n"
     ]
    }
   ],
   "source": [
    "## Creating a new dataframe to hold the energy values and add in cost values\n",
    "# Make sure the 'datetime' column is in datetime format\n",
    "df['datetime'] = pd.to_datetime(df['Timestamps'])\n",
    "\n",
    "# Set the 'datetime' column as the index for easier grouping by month\n",
    "df.set_index('datetime', inplace=True)\n",
    "\n",
    "# Resample the data to monthly frequency and calculate the sum for each set of data\n",
    "monthly_sums = df.resample('M').sum()\n",
    "\n",
    "# Reset the index to get the 'Timestamps' column back as a regular column\n",
    "monthly_sums.reset_index(inplace=True)\n",
    "monthly_sums['start_elec_cost'] = 0\n",
    "monthly_sums['upgrade_elec_cost'] = 0\n",
    "\n",
    "print(monthly_sums)"
   ]
  },
  {
   "cell_type": "markdown",
   "id": "2c1c506d",
   "metadata": {},
   "source": [
    "Vehicle Pricing and load"
   ]
  },
  {
   "cell_type": "markdown",
   "id": "a209e543",
   "metadata": {},
   "source": [
    "Calculate Pre-Transition Fuel Cost "
   ]
  },
  {
   "cell_type": "code",
   "execution_count": 15,
   "id": "50892eb0",
   "metadata": {},
   "outputs": [
    {
     "name": "stdout",
     "output_type": "stream",
     "text": [
      "                                     Vars                   Inputs\n",
      "0                            Type of Home    Multi-Family 5+ Units\n",
      "1                     Current Home Status                 Baseline\n",
      "2                Upgrage Scenario to Test  Heat Pump Water Heaters\n",
      "3          Annual Electricity Usage (kWh)                     3000\n",
      "4       Annual Natural Gas Usage (Therm)                       330\n",
      "5                           Customer Zone                        1\n",
      "6   Customer Annual Household Income ($)                     50000\n",
      "7                Customer Assistance Rate                     None\n",
      "8             Natural Gas Assistance Rate                     None\n",
      "9              Electricity Rate Structure   Three Tiered (Current)\n",
      "10              Gasoline Price ($/Gallon)                      4.8\n",
      "11    Natural Gas Increase Above Baseline                        0\n",
      "12                 Current Upgrade Status                     None\n",
      "13                       Upgrade to Test                        EV\n",
      "14                      Current Car Owner       Gasoline Car/Sedan\n",
      "15      Current Car Fuel Efficiency (MPG)                       25\n",
      "16                   Annual Miles Driven                     10000\n",
      "17                   EV Charging Behavior    Residential/Overnight\n"
     ]
    }
   ],
   "source": [
    "print(inputs)"
   ]
  },
  {
   "cell_type": "code",
   "execution_count": 16,
   "id": "d7909a7e",
   "metadata": {},
   "outputs": [],
   "source": [
    "current_car = inputs.iloc[14,1]\n",
    "vmt = inputs.iloc[16,1] if inputs.iloc[16,1] != 0 else 10000\n",
    "current_mpg = inputs.iloc[15,1]\n",
    "gas_price = inputs.iloc[10,1]\n",
    "if current_car == 'None':\n",
    "    start_gas_cost = 0\n",
    "elif current_car == 'Gasoline Car/Sedan' or current_car == 'Gasoline Light Truck/Van/SUV':\n",
    "    ## cost before EV \n",
    "    gas_consumed = vmt/current_mpg\n",
    "    start_gas_cost = gas_price * gas_consumed\n",
    "else: \n",
    "    start_gas_cost = 0 \n",
    "    ## assuming electric cost is already baked in via load \n",
    "start_daily_gas_cost = start_gas_cost/365"
   ]
  },
  {
   "cell_type": "markdown",
   "id": "4fb0449c",
   "metadata": {},
   "source": [
    "Calculate Post-Transition Fuel Cost"
   ]
  },
  {
   "cell_type": "code",
   "execution_count": 17,
   "id": "807fb394",
   "metadata": {},
   "outputs": [
    {
     "name": "stdout",
     "output_type": "stream",
     "text": [
      "[ 307.76255708  277.97908381  307.76255708  297.83473266  307.76255708\n",
      "  297.83473266  307.76255708  307.76255708  297.83473266  307.76255708\n",
      "  297.83473266  307.76255708 3623.65591398]\n",
      "[0 0 0 0 0 0 0 0 0 0 0 0 0]\n",
      "[ 163.06849315  147.28767123  163.06849315  157.80821918  163.06849315\n",
      "  157.80821918  163.06849315  163.06849315  157.80821918  163.06849315\n",
      "  157.80821918  163.06849315 1920.        ]\n",
      "[0. 0. 0. 0. 0. 0. 0. 0. 0. 0. 0. 0. 0.]\n"
     ]
    }
   ],
   "source": [
    "## assessing load based on if transition includes upgrade to EV \n",
    "ev_mpge = 93 if current_car == \"Gasoline Light Truck/Van/SUV\" else 93\n",
    "transition = inputs.iloc[13,1]\n",
    "if transition == 'None':\n",
    "    upgrade_gas_cost = start_gas_cost\n",
    "    e_trans_consumed = 0 \n",
    "    e_trans_consumed_daily = 0 \n",
    "elif transition == 'Solar PV':\n",
    "    upgrade_gas_cost = start_gas_cost\n",
    "    e_trans_consumed = 0\n",
    "    e_trans_consumed_daily = 0 \n",
    "else:\n",
    "    upgrade_gas_cost = 0\n",
    "    ge_consumed = vmt/ev_mpge\n",
    "    e_trans_consumed = ge_consumed * 33.7 ## assuming 1 gallon equivalent ~ 33.7 kWh\n",
    "    e_trans_consumed_daily = e_trans_consumed/365\n",
    "upgrade_daily_gas_cost = upgrade_gas_cost/365\n",
    "\n",
    "## assessing load and cost based on charging behavior \n",
    "ev_charging = inputs.iloc[17,1]\n",
    "### residential charging \n",
    "if ev_charging == \"Residential/Overnight\":\n",
    "    charge_hours = e_trans_consumed_daily/7.6 #assuming charge rate is 7.6 kW \n",
    "    trans_charge_load = e_trans_consumed_daily/charge_hours ## this will be useful for TOU pricing, not using for now\n",
    "    e_trans_cost_daily = 0 \n",
    "    ### non-residential charging\n",
    "elif ev_charging == 'Public or Workplace/Daytime Level 2': \n",
    "    e_trans_cost_daily = e_trans_consumed_daily * 0.29 ## assuming $0.29 per kwh\n",
    "    e_trans_consumed_daily = 0 \n",
    "elif ev_charging == 'Public or Workplace/Daytime DCFC': \n",
    "    e_trans_cost_daily = e_trans_consumed_daily * 0.42 ## assuming $0.42 per kwh\n",
    "    e_trans_consumed_daily = 0 \n",
    "else: \n",
    "    e_trans_cost_daily = 0 \n",
    "    e_trans_consumed_daily = 0 \n",
    "## making an array to add on to monthly sums \n",
    "# Define the number of days in each month\n",
    "days_in_month = [31, 28, 31, 30, 31, 30, 31, 31, 30, 31, 30, 31,365]\n",
    "## start electric cost will always be zero -- assumed to be included in the load\n",
    "## will just need to add upgrade electric load, upgrade electric cost, start and upgrade gas cost\n",
    "start_gas_cost = np.array(days_in_month) * start_daily_gas_cost\n",
    "upgrade_gas_cost = np.array(days_in_month) * upgrade_daily_gas_cost\n",
    "upgrade_res_ev_elec = np.array(days_in_month) * e_trans_consumed_daily\n",
    "upgrade_res_ev_cost = np.array(days_in_month) * e_trans_cost_daily\n",
    "print(upgrade_res_ev_elec)   \n",
    "print(upgrade_res_ev_cost)\n",
    "print(start_gas_cost)\n",
    "print(upgrade_gas_cost)"
   ]
  },
  {
   "cell_type": "markdown",
   "id": "03bac94f",
   "metadata": {},
   "source": [
    "Add EV load to the upgrade electricity load"
   ]
  },
  {
   "cell_type": "code",
   "execution_count": 18,
   "id": "a81bbb26",
   "metadata": {},
   "outputs": [
    {
     "name": "stdout",
     "output_type": "stream",
     "text": [
      "     datetime  start_elec_vals  upgrade_elec_vals  start_nat_gas_vals  \\\n",
      "0  2018-01-31       245.483577         561.681285         1020.886863   \n",
      "1  2018-02-28       221.886414         507.329048          916.221898   \n",
      "2  2018-03-31       229.085062         542.395359          934.981919   \n",
      "3  2018-04-30       229.845605         526.429526          779.958058   \n",
      "4  2018-05-31       235.405429         541.490362          757.024228   \n",
      "5  2018-06-30       254.584940         547.195086          667.471529   \n",
      "6  2018-07-31       308.668873         608.407910          650.054966   \n",
      "7  2018-08-31       302.041106         601.922645          651.747919   \n",
      "8  2018-09-30       263.894268         555.245780          662.402809   \n",
      "9  2018-10-31       244.356831         548.195213          746.068736   \n",
      "10 2018-11-30       222.241030         523.490762          848.258079   \n",
      "11 2018-12-31       242.396162         560.234627         1033.463993   \n",
      "12 2019-01-31         0.110704        3623.773957            0.459004   \n",
      "\n",
      "    upgrade_nat_gas_vals  start_total_vals  upgrade_total_vals  \\\n",
      "0             454.476207       1146.431551          890.677492   \n",
      "1             406.227133       1033.101141          802.521440   \n",
      "2             374.217677       1061.975032          801.560904   \n",
      "3             239.928587        990.059938          722.310436   \n",
      "4             225.431025        993.942544          729.232162   \n",
      "5             174.505246       1001.956640          746.960262   \n",
      "6             162.953950       1137.710102          878.220704   \n",
      "7             165.601559       1120.809323          862.170134   \n",
      "8             169.910729       1024.289971          766.271606   \n",
      "9             207.965562       1012.496018          738.863408   \n",
      "10            316.452890       1001.984043          750.425666   \n",
      "11            488.578367       1143.728222          902.768276   \n",
      "12              0.220729          0.515475            0.418563   \n",
      "\n",
      "    start_elec_load  upgrade_elec_load  start_elec_cost  upgrade_elec_cost  \n",
      "0        981.934307        1015.674911                0                  0  \n",
      "1        887.545654         917.399858                0                  0  \n",
      "2        916.340247         938.531209                0                  0  \n",
      "3        919.382422         914.379172                0                  0  \n",
      "4        941.621718         934.911220                0                  0  \n",
      "5       1018.339759         997.441415                0                  0  \n",
      "6       1234.675491        1202.581414                0                  0  \n",
      "7       1208.164424        1176.640352                0                  0  \n",
      "8       1055.577071        1029.644189                0                  0  \n",
      "9        977.427324         961.730623                0                  0  \n",
      "10       888.964120         902.624118                0                  0  \n",
      "11       969.584648        1009.888280                0                  0  \n",
      "12         0.442815           0.472172                0                  0  \n"
     ]
    }
   ],
   "source": [
    "monthly_sums['upgrade_elec_vals'] = monthly_sums['upgrade_elec_vals'] + upgrade_res_ev_elec\n",
    "print(monthly_sums)"
   ]
  },
  {
   "cell_type": "markdown",
   "id": "a751172f",
   "metadata": {},
   "source": [
    "Step 6: Calculate Electricity and Natural Gas Costs Before and After Upgrade"
   ]
  },
  {
   "cell_type": "markdown",
   "id": "620d15ba",
   "metadata": {},
   "source": [
    "6.1 Electricity pricing "
   ]
  },
  {
   "cell_type": "code",
   "execution_count": 19,
   "id": "f879b005",
   "metadata": {},
   "outputs": [],
   "source": [
    "file_path = r'C:/Users/Rachel/OneDrive - UCLA IT Services/Documents/DWP_Electrification_Cal/electric_pricing.xlsx'\n",
    "# Read Dataframe from Excel file of electricity prices \n",
    "elec_prices = pd.read_excel(file_path, sheet_name='resi')"
   ]
  },
  {
   "cell_type": "code",
   "execution_count": 20,
   "id": "503234b8",
   "metadata": {},
   "outputs": [
    {
     "name": "stderr",
     "output_type": "stream",
     "text": [
      "C:\\Users\\Rachel\\anaconda3\\lib\\site-packages\\pandas\\core\\indexing.py:1732: SettingWithCopyWarning: \n",
      "A value is trying to be set on a copy of a slice from a DataFrame\n",
      "\n",
      "See the caveats in the documentation: https://pandas.pydata.org/pandas-docs/stable/user_guide/indexing.html#returning-a-view-versus-a-copy\n",
      "  self._setitem_single_block(indexer, value, name)\n"
     ]
    }
   ],
   "source": [
    "##  Assigning each of the months a tier value based on zone and usage\n",
    "## Use tier value to choose associated power access charge and energy charge, multiplied by usage\n",
    "zone = int(inputs.iloc[5,1])\n",
    "for x in range(12):\n",
    "    start_elec_usage = monthly_sums['start_elec_vals'].iloc[x]\n",
    "    upgrade_elec_usage = monthly_sums['upgrade_elec_vals'].iloc[x]\n",
    "    if zone == 1:\n",
    "        if start_elec_usage <= 350:\n",
    "            monthly_sums['start_elec_cost'].iloc[x] = elec_prices['Cust Charge T1'].iloc[x] + elec_prices['En Charge T1'].iloc[x]*start_elec_usage\n",
    "        elif start_elec_usage <= 1050:\n",
    "            monthly_sums['start_elec_cost'].iloc[x] = elec_prices['Cust Charge T2'].iloc[x] + \\\n",
    "            elec_prices['En Charge T1'].iloc[x]*350 + elec_prices['En Charge T2'].iloc[x]*(start_elec_usage-350)\n",
    "        else: \n",
    "            monthly_sums['start_elec_cost'].iloc[x] = elec_prices['Cust Charge T3'].iloc[x] + \\\n",
    "            elec_prices['En Charge T1'].iloc[x]*350 + elec_prices['En Charge T2'].iloc[x]*700 + elec_prices['En Charge T3'].iloc[x]*(start_elec_usage-1050)\n",
    "        if upgrade_elec_usage <= 350:\n",
    "            monthly_sums['upgrade_elec_cost'].iloc[x] = elec_prices['Cust Charge T1'].iloc[x] + elec_prices['En Charge T1'].iloc[x]*upgrade_elec_usage\n",
    "        elif upgrade_elec_usage <= 1050:\n",
    "            monthly_sums['upgrade_elec_cost'].iloc[x] = elec_prices['Cust Charge T2'].iloc[x] +  \\\n",
    "            elec_prices['En Charge T1'].iloc[x]*350 + elec_prices['En Charge T2'].iloc[x]*(upgrade_elec_usage-350)\n",
    "        else: \n",
    "            monthly_sums['upgrade_elec_cost'].iloc[x] = elec_prices['Cust Charge T3'].iloc[x] + \\\n",
    "            elec_prices['En Charge T1'].iloc[x]*350 + elec_prices['En Charge T2'].iloc[x]*700 + elec_prices['En Charge T3'].iloc[x]*(upgrade_elec_usage-1050)\n",
    "    else: \n",
    "        if elec_usage <= 500:\n",
    "            monthly_sums['start_elec_cost'].iloc[x] = elec_prices['Cust Charge T1'].iloc[x] + elec_prices['En Charge T1'].iloc[x]*start_elec_usage\n",
    "        elif elec_usage <= 1500:\n",
    "            monthly_sums['start_elec_cost'].iloc[x] = elec_prices['Cust Charge T2'].iloc[x] + \\\n",
    "            elec_prices['En Charge T1'].iloc[x]*500 + elec_prices['En Charge T2'].iloc[x]*(start_elec_usage-500)\n",
    "        else: \n",
    "            monthly_sums['start_elec_cost'].iloc[x] = elec_prices['Cust Charge T3'].iloc[x] + \\\n",
    "            elec_prices['En Charge T1'].iloc[x]*500 + elec_prices['En Charge T2'].iloc[x]*1000 + elec_prices['En Charge T3'].iloc[x]*(start_elec_usage-1500)\n",
    "        if upgrade_elec_usage <= 500:\n",
    "            monthly_sums['upgrade_elec_cost'].iloc[x] = elec_prices['Cust Charge T1'].iloc[x] + elec_prices['En Charge T1'].iloc[x]*upgrade_elec_usage\n",
    "        elif upgrade_elec_usage <=1500:\n",
    "            monthly_sums['upgrade_elec_cost'].iloc[x] = elec_prices['Cust Charge T2'].iloc[x] + \\\n",
    "            elec_prices['En Charge T1'].iloc[x]*500 + elec_prices['En Charge T2'].iloc[x]*(upgrade_elec_usage-500)\n",
    "        else: \n",
    "            monthly_sums['upgrade_elec_cost'].iloc[x] = elec_prices['Cust Charge T3'].iloc[x] + \\\n",
    "            elec_prices['En Charge T1'].iloc[x]*500 + elec_prices['En Charge T2'].iloc[x]*1000 + elec_prices['En Charge T3'].iloc[x]*(upgrade_elec_usage-1500)"
   ]
  },
  {
   "cell_type": "code",
   "execution_count": 21,
   "id": "e74312e6",
   "metadata": {},
   "outputs": [
    {
     "name": "stdout",
     "output_type": "stream",
     "text": [
      "     datetime  start_elec_vals  upgrade_elec_vals  start_nat_gas_vals  \\\n",
      "0  2018-01-31       245.483577         561.681285         1020.886863   \n",
      "1  2018-02-28       221.886414         507.329048          916.221898   \n",
      "2  2018-03-31       229.085062         542.395359          934.981919   \n",
      "3  2018-04-30       229.845605         526.429526          779.958058   \n",
      "4  2018-05-31       235.405429         541.490362          757.024228   \n",
      "5  2018-06-30       254.584940         547.195086          667.471529   \n",
      "6  2018-07-31       308.668873         608.407910          650.054966   \n",
      "7  2018-08-31       302.041106         601.922645          651.747919   \n",
      "8  2018-09-30       263.894268         555.245780          662.402809   \n",
      "9  2018-10-31       244.356831         548.195213          746.068736   \n",
      "10 2018-11-30       222.241030         523.490762          848.258079   \n",
      "11 2018-12-31       242.396162         560.234627         1033.463993   \n",
      "12        NaT      2999.889296        6624.017604         9668.540996   \n",
      "\n",
      "    upgrade_nat_gas_vals  start_total_vals  upgrade_total_vals  \\\n",
      "0             454.476207       1146.431551          890.677492   \n",
      "1             406.227133       1033.101141          802.521440   \n",
      "2             374.217677       1061.975032          801.560904   \n",
      "3             239.928587        990.059938          722.310436   \n",
      "4             225.431025        993.942544          729.232162   \n",
      "5             174.505246       1001.956640          746.960262   \n",
      "6             162.953950       1137.710102          878.220704   \n",
      "7             165.601559       1120.809323          862.170134   \n",
      "8             169.910729       1024.289971          766.271606   \n",
      "9             207.965562       1012.496018          738.863408   \n",
      "10            316.452890       1001.984043          750.425666   \n",
      "11            488.578367       1143.728222          902.768276   \n",
      "12           3386.248932      12668.484525         9591.982490   \n",
      "\n",
      "    start_elec_load  upgrade_elec_load  start_elec_cost  upgrade_elec_cost  \n",
      "0        981.934307        1015.674911        53.449922         138.840511  \n",
      "1        887.545654         917.399858        48.555233         124.063442  \n",
      "2        916.340247         938.531209        50.048427         133.597131  \n",
      "3        919.382422         914.379172        50.459015         129.835476  \n",
      "4        941.621718         934.911220        51.618388         133.946723  \n",
      "5       1018.339759         997.441415        55.617834         135.503976  \n",
      "6       1234.675491        1202.581414        73.092322         164.427397  \n",
      "7       1208.164424        1176.640352        71.577201         162.526883  \n",
      "8       1055.577071        1029.644189        62.856757         148.848181  \n",
      "9        977.427324         961.730623        54.116659         137.194071  \n",
      "10       888.964120         902.624118        49.447748         130.386488  \n",
      "11       969.584648        1009.888280        53.702739         140.511664  \n",
      "12     11999.557185       12001.446760       674.542244        1679.681943  \n"
     ]
    }
   ],
   "source": [
    "## accounting for lifeline or EZ-Save, Utility Users Tax (UUT)\n",
    "if inputs.iloc[7,1] == 'Lifeline':\n",
    "    monthly_sums['start_elec_cost'] = monthly_sums['start_elec_cost'] - 17.71 ## no UUT, Lifeline discount\n",
    "    monthly_sums['upgrade_elec_cost'] = monthly_sums['upgrade_elec_cost'] - 17.71 ## no UUT, Lifeline discount\n",
    "elif inputs.iloc[7,1] == 'EZ-Save':\n",
    "    monthly_sums['start_elec_cost'] = (monthly_sums['start_elec_cost'] - 8.17)*1.1 ## adding UUT, EZ-Save discount\n",
    "    monthly_sums['upgrade_elec_cost'] = (monthly_sums['upgrade_elec_cost'] - 8.17)*1.1 ## adding UUT, EZ-Save discount\n",
    "else: \n",
    "    monthly_sums['start_elec_cost'] = monthly_sums['start_elec_cost']*1.1 ## adding UUT, no discount\n",
    "    monthly_sums['upgrade_elec_cost'] = monthly_sums['upgrade_elec_cost'] *1.1 ## adding UUT, no discount\n",
    "\n",
    "#remove the extraneous row \n",
    "monthly_sums = monthly_sums.iloc[:-1,:]\n",
    "\n",
    "# create yearly sums from all of the months \n",
    "sum_row = monthly_sums.iloc[:, 1:].sum(numeric_only=True)\n",
    "monthly_sums = monthly_sums.append(sum_row, ignore_index = True)\n",
    "\n",
    "\n",
    "print(monthly_sums)"
   ]
  },
  {
   "cell_type": "code",
   "execution_count": 22,
   "id": "3c49c4fc",
   "metadata": {},
   "outputs": [
    {
     "name": "stdout",
     "output_type": "stream",
     "text": [
      "     datetime  start_elec_vals  upgrade_elec_vals  start_nat_gas_vals  \\\n",
      "0  2018-01-31       245.483577         561.681285         1020.886863   \n",
      "1  2018-02-28       221.886414         507.329048          916.221898   \n",
      "2  2018-03-31       229.085062         542.395359          934.981919   \n",
      "3  2018-04-30       229.845605         526.429526          779.958058   \n",
      "4  2018-05-31       235.405429         541.490362          757.024228   \n",
      "5  2018-06-30       254.584940         547.195086          667.471529   \n",
      "6  2018-07-31       308.668873         608.407910          650.054966   \n",
      "7  2018-08-31       302.041106         601.922645          651.747919   \n",
      "8  2018-09-30       263.894268         555.245780          662.402809   \n",
      "9  2018-10-31       244.356831         548.195213          746.068736   \n",
      "10 2018-11-30       222.241030         523.490762          848.258079   \n",
      "11 2018-12-31       242.396162         560.234627         1033.463993   \n",
      "12        NaT      2999.889296        6624.017604         9668.540996   \n",
      "\n",
      "    upgrade_nat_gas_vals  start_total_vals  upgrade_total_vals  \\\n",
      "0             454.476207       1146.431551          890.677492   \n",
      "1             406.227133       1033.101141          802.521440   \n",
      "2             374.217677       1061.975032          801.560904   \n",
      "3             239.928587        990.059938          722.310436   \n",
      "4             225.431025        993.942544          729.232162   \n",
      "5             174.505246       1001.956640          746.960262   \n",
      "6             162.953950       1137.710102          878.220704   \n",
      "7             165.601559       1120.809323          862.170134   \n",
      "8             169.910729       1024.289971          766.271606   \n",
      "9             207.965562       1012.496018          738.863408   \n",
      "10            316.452890       1001.984043          750.425666   \n",
      "11            488.578367       1143.728222          902.768276   \n",
      "12           3386.248932      12668.484525         9591.982490   \n",
      "\n",
      "    start_elec_load  upgrade_elec_load  start_elec_cost  upgrade_elec_cost  \\\n",
      "0        981.934307        1015.674911        53.449922         138.840511   \n",
      "1        887.545654         917.399858        48.555233         124.063442   \n",
      "2        916.340247         938.531209        50.048427         133.597131   \n",
      "3        919.382422         914.379172        50.459015         129.835476   \n",
      "4        941.621718         934.911220        51.618388         133.946723   \n",
      "5       1018.339759         997.441415        55.617834         135.503976   \n",
      "6       1234.675491        1202.581414        73.092322         164.427397   \n",
      "7       1208.164424        1176.640352        71.577201         162.526883   \n",
      "8       1055.577071        1029.644189        62.856757         148.848181   \n",
      "9        977.427324         961.730623        54.116659         137.194071   \n",
      "10       888.964120         902.624118        49.447748         130.386488   \n",
      "11       969.584648        1009.888280        53.702739         140.511664   \n",
      "12     11999.557185       12001.446760       674.542244        1679.681943   \n",
      "\n",
      "    start_external_fuel_cost  upgrade_external_fuel_cost  \n",
      "0                 163.068493                         0.0  \n",
      "1                 147.287671                         0.0  \n",
      "2                 163.068493                         0.0  \n",
      "3                 157.808219                         0.0  \n",
      "4                 163.068493                         0.0  \n",
      "5                 157.808219                         0.0  \n",
      "6                 163.068493                         0.0  \n",
      "7                 163.068493                         0.0  \n",
      "8                 157.808219                         0.0  \n",
      "9                 163.068493                         0.0  \n",
      "10                157.808219                         0.0  \n",
      "11                163.068493                         0.0  \n",
      "12               1920.000000                         0.0  \n"
     ]
    }
   ],
   "source": [
    "### adding in fuel cost \n",
    "monthly_sums['start_external_fuel_cost'] = start_gas_cost\n",
    "monthly_sums['upgrade_external_fuel_cost'] = upgrade_res_ev_cost + upgrade_gas_cost\n",
    "print(monthly_sums)"
   ]
  },
  {
   "cell_type": "markdown",
   "id": "db0277d0",
   "metadata": {},
   "source": [
    "Plot monthly bill cost "
   ]
  },
  {
   "cell_type": "code",
   "execution_count": 23,
   "id": "8fb8fac0",
   "metadata": {},
   "outputs": [
    {
     "data": {
      "image/png": "[encoded data removed]",
      "text/plain": [
       "<Figure size 864x576 with 1 Axes>"
      ]
     },
     "metadata": {
      "needs_background": "dark"
     },
     "output_type": "display_data"
    }
   ],
   "source": [
    "# set width of bar\n",
    "barWidth = 0.25\n",
    "fig = plt.subplots(figsize =(12, 8))\n",
    " \n",
    "# set height of bar\n",
    "starting_cost = monthly_sums['start_elec_cost'][:-1]\n",
    "upgrade_cost = monthly_sums['upgrade_elec_cost'][:-1]\n",
    "\n",
    " \n",
    "# Set position of bar on X axis\n",
    "br1 = np.arange(len(starting_cost))\n",
    "br2 = [x + barWidth for x in br1]\n",
    " \n",
    "# Make the plot\n",
    "plt.bar(br1, starting_cost, width = barWidth,\n",
    "        edgecolor ='grey', label ='Start Cost')\n",
    "plt.bar(br2, upgrade_cost,  width = barWidth,\n",
    "        edgecolor ='grey', label ='Upgrade Cost')\n",
    " \n",
    "# Adding Xticks\n",
    "plt.xlabel('Month', fontweight ='bold', fontsize = 12, color = 'white')\n",
    "plt.ylabel('Cost ($)', fontweight ='bold', fontsize = 15, color = 'white')\n",
    "plt.xticks([r + barWidth for r in range(len(starting_cost))],\n",
    "        ['January', 'February', 'March', 'April', 'May','June','July','August','September','October','November','December'])\n",
    "\n",
    "plt.xticks(rotation=45, color = 'white')\n",
    "plt.yticks(color = 'white')\n",
    "plt.title('Monthly Electricity Cost - ' + start + \" vs. \" + upgrade_only, fontweight = 'bold', color = 'white')\n",
    "plt.legend()\n",
    "plt.show()"
   ]
  },
  {
   "cell_type": "code",
   "execution_count": 24,
   "id": "48cf11c2",
   "metadata": {
    "scrolled": true
   },
   "outputs": [
    {
     "name": "stdout",
     "output_type": "stream",
     "text": [
      "+-----------+------------------+--------------------+\n",
      "| Month     | Bill Pre Upgrade | Bill After Upgrade |\n",
      "+-----------+------------------+--------------------+\n",
      "| January   | $53.45           | $138.84            |\n",
      "| February  | $48.56           | $124.06            |\n",
      "| March     | $50.05           | $133.60            |\n",
      "| April     | $50.46           | $129.84            |\n",
      "| May       | $51.62           | $133.95            |\n",
      "| June      | $55.62           | $135.50            |\n",
      "| July      | $73.09           | $164.43            |\n",
      "| August    | $71.58           | $162.53            |\n",
      "| September | $62.86           | $148.85            |\n",
      "| October   | $54.12           | $137.19            |\n",
      "| November  | $49.45           | $130.39            |\n",
      "| December  | $53.70           | $140.51            |\n",
      "| Total     | $674.54          | $1679.68           |\n",
      "+-----------+------------------+--------------------+\n"
     ]
    }
   ],
   "source": [
    "from prettytable import PrettyTable\n",
    "table = PrettyTable()\n",
    "column_names = [\"Month\", \"Bill Pre Upgrade\", \"Bill After Upgrade\"]\n",
    "data_columns =[\n",
    "     ['January', 'February', 'March', 'April', 'May','June','July','August','September','October','November','December','Total'],\n",
    "    monthly_sums['start_elec_cost'],\n",
    "    monthly_sums['upgrade_elec_cost']\n",
    "    ]\n",
    "# Add columns to the table\n",
    "for name, data in zip(column_names, data_columns):\n",
    "    table.add_column(name, data)\n",
    "\n",
    "# Align columns to the left\n",
    "for name in column_names:\n",
    "    table.align[name] = \"l\"\n",
    "\n",
    "# Format the salary column as dollars and cents\n",
    "starting_column_index = column_names.index('Bill Pre Upgrade')\n",
    "for row in table._rows:\n",
    "    row[starting_column_index] = \"${:.2f}\".format(float(row[starting_column_index]))\n",
    "    \n",
    "# Format the salary column as dollars and cents\n",
    "upgrade_column_index = column_names.index('Bill After Upgrade')\n",
    "for row in table._rows:\n",
    "    row[upgrade_column_index] = \"${:.2f}\".format(float(row[upgrade_column_index]))\n",
    "    \n",
    "# Add a horizontal line after the header row\n",
    "table.horizontal_char = '-'\n",
    "\n",
    "# Add a vertical line between columns\n",
    "table.vertical_char = '|'\n",
    "\n",
    "# Add an intersection character between the columns and the header row\n",
    "table.junction_char = '+'\n",
    "\n",
    "# Print the table\n",
    "print(table)"
   ]
  },
  {
   "cell_type": "code",
   "execution_count": 25,
   "id": "39d84314",
   "metadata": {},
   "outputs": [
    {
     "name": "stdout",
     "output_type": "stream",
     "text": [
      "Customer energy burden before upgrade is: 1.35%.\n",
      "Customer energy burden after upgrade is: 3.36%.\n"
     ]
    }
   ],
   "source": [
    "### calculating energy burden \n",
    "income = inputs.iloc[6,1]\n",
    "start_elec_cost = monthly_sums['start_elec_cost'].iloc[12]\n",
    "upgrade_elec_cost = monthly_sums['upgrade_elec_cost'].iloc[12]\n",
    "start_burden = start_elec_cost/income\n",
    "upgrade_burden = upgrade_elec_cost/income\n",
    "formatted_start_burden  = \"{:.2%}\".format(start_burden)\n",
    "formatted_upgrade_burden = \"{:.2%}\".format(upgrade_burden)\n",
    "print(\"Customer energy burden before upgrade is: \" + formatted_start_burden + \".\")\n",
    "print(\"Customer energy burden after upgrade is: \" + formatted_upgrade_burden + \".\")"
   ]
  },
  {
   "cell_type": "markdown",
   "id": "7b538eec",
   "metadata": {},
   "source": [
    "Next Step: Natural Gas Pricing "
   ]
  },
  {
   "cell_type": "code",
   "execution_count": 26,
   "id": "24933672",
   "metadata": {
    "scrolled": true
   },
   "outputs": [
    {
     "name": "stdout",
     "output_type": "stream",
     "text": [
      "        Month  Days  Customer Charge  Baseline Allowance Z1  \\\n",
      "0     January    30          4.93140                 48.000   \n",
      "1    February    28          4.60264                 44.800   \n",
      "2       March    31          5.09578                 27.094   \n",
      "3       April    30          4.93140                 26.220   \n",
      "4         May    31          5.09578                 13.144   \n",
      "5        June    30          4.93140                 12.720   \n",
      "6        July    31          5.09578                 13.144   \n",
      "7      August    31          5.09578                 13.144   \n",
      "8   September    30          4.93140                 12.720   \n",
      "9     October    31          5.09578                 13.144   \n",
      "10   November    30          4.93140                 26.220   \n",
      "11   December    31          5.09578                 49.600   \n",
      "\n",
      "    Baseline Procurement_Transmission  Non-Baseline Procurement_Transmission  \\\n",
      "0                             1.33391                                1.77923   \n",
      "1                             1.33391                                1.77923   \n",
      "2                             1.33391                                1.77923   \n",
      "3                             1.33391                                1.77923   \n",
      "4                             1.33391                                1.77923   \n",
      "5                             1.33391                                1.77923   \n",
      "6                             1.33391                                1.77923   \n",
      "7                             1.33391                                1.77923   \n",
      "8                             1.33391                                1.77923   \n",
      "9                             1.33391                                1.77923   \n",
      "10                            1.33391                                1.77923   \n",
      "11                            1.33391                                1.77923   \n",
      "\n",
      "       PPPG  PPPG - CARE  State Reg Fee   \n",
      "0   0.11301       0.0681           0.005  \n",
      "1   0.11301       0.0681           0.005  \n",
      "2   0.11301       0.0681           0.005  \n",
      "3   0.11301       0.0681           0.005  \n",
      "4   0.11301       0.0681           0.005  \n",
      "5   0.11301       0.0681           0.005  \n",
      "6   0.11301       0.0681           0.005  \n",
      "7   0.11301       0.0681           0.005  \n",
      "8   0.11301       0.0681           0.005  \n",
      "9   0.11301       0.0681           0.005  \n",
      "10  0.11301       0.0681           0.005  \n",
      "11  0.11301       0.0681           0.005  \n"
     ]
    }
   ],
   "source": [
    "file_path = r'C:/Users/Rachel/OneDrive - UCLA IT Services/Documents/DWP_Electrification_Cal/ng_pricing_res.xlsx'\n",
    "# Read Dataframe from Excel file\n",
    "gas_prices = pd.read_excel(file_path, sheet_name='Residential')\n",
    "print(gas_prices)"
   ]
  },
  {
   "cell_type": "code",
   "execution_count": 27,
   "id": "c7b348a8",
   "metadata": {},
   "outputs": [
    {
     "name": "stdout",
     "output_type": "stream",
     "text": [
      "                                     Vars                   Inputs\n",
      "0                            Type of Home    Multi-Family 5+ Units\n",
      "1                     Current Home Status                 Baseline\n",
      "2                Upgrage Scenario to Test  Heat Pump Water Heaters\n",
      "3          Annual Electricity Usage (kWh)                     3000\n",
      "4       Annual Natural Gas Usage (Therm)                       330\n",
      "5                           Customer Zone                        1\n",
      "6   Customer Annual Household Income ($)                     50000\n",
      "7                Customer Assistance Rate                     None\n",
      "8             Natural Gas Assistance Rate                     None\n",
      "9              Electricity Rate Structure   Three Tiered (Current)\n",
      "10              Gasoline Price ($/Gallon)                      4.8\n",
      "11    Natural Gas Increase Above Baseline                        0\n",
      "12                 Current Upgrade Status                     None\n",
      "13                       Upgrade to Test                        EV\n",
      "14                      Current Car Owner       Gasoline Car/Sedan\n",
      "15      Current Car Fuel Efficiency (MPG)                       25\n",
      "16                   Annual Miles Driven                     10000\n",
      "17                   EV Charging Behavior    Residential/Overnight\n"
     ]
    }
   ],
   "source": [
    "print(inputs)"
   ]
  },
  {
   "cell_type": "code",
   "execution_count": 28,
   "id": "ea67e6a2",
   "metadata": {
    "scrolled": true
   },
   "outputs": [
    {
     "name": "stdout",
     "output_type": "stream",
     "text": [
      "     datetime  start_elec_vals  upgrade_elec_vals  start_nat_gas_vals  \\\n",
      "0  2018-01-31       245.483577         561.681285         1020.886863   \n",
      "1  2018-02-28       221.886414         507.329048          916.221898   \n",
      "2  2018-03-31       229.085062         542.395359          934.981919   \n",
      "3  2018-04-30       229.845605         526.429526          779.958058   \n",
      "4  2018-05-31       235.405429         541.490362          757.024228   \n",
      "5  2018-06-30       254.584940         547.195086          667.471529   \n",
      "6  2018-07-31       308.668873         608.407910          650.054966   \n",
      "7  2018-08-31       302.041106         601.922645          651.747919   \n",
      "8  2018-09-30       263.894268         555.245780          662.402809   \n",
      "9  2018-10-31       244.356831         548.195213          746.068736   \n",
      "10 2018-11-30       222.241030         523.490762          848.258079   \n",
      "11 2018-12-31       242.396162         560.234627         1033.463993   \n",
      "12        NaT      2999.889296        6624.017604         9668.540996   \n",
      "\n",
      "    upgrade_nat_gas_vals  start_total_vals  upgrade_total_vals  \\\n",
      "0             454.476207       1146.431551          890.677492   \n",
      "1             406.227133       1033.101141          802.521440   \n",
      "2             374.217677       1061.975032          801.560904   \n",
      "3             239.928587        990.059938          722.310436   \n",
      "4             225.431025        993.942544          729.232162   \n",
      "5             174.505246       1001.956640          746.960262   \n",
      "6             162.953950       1137.710102          878.220704   \n",
      "7             165.601559       1120.809323          862.170134   \n",
      "8             169.910729       1024.289971          766.271606   \n",
      "9             207.965562       1012.496018          738.863408   \n",
      "10            316.452890       1001.984043          750.425666   \n",
      "11            488.578367       1143.728222          902.768276   \n",
      "12           3386.248932      12668.484525         9591.982490   \n",
      "\n",
      "    start_elec_load  upgrade_elec_load  start_elec_cost  upgrade_elec_cost  \\\n",
      "0        981.934307        1015.674911        53.449922         138.840511   \n",
      "1        887.545654         917.399858        48.555233         124.063442   \n",
      "2        916.340247         938.531209        50.048427         133.597131   \n",
      "3        919.382422         914.379172        50.459015         129.835476   \n",
      "4        941.621718         934.911220        51.618388         133.946723   \n",
      "5       1018.339759         997.441415        55.617834         135.503976   \n",
      "6       1234.675491        1202.581414        73.092322         164.427397   \n",
      "7       1208.164424        1176.640352        71.577201         162.526883   \n",
      "8       1055.577071        1029.644189        62.856757         148.848181   \n",
      "9        977.427324         961.730623        54.116659         137.194071   \n",
      "10       888.964120         902.624118        49.447748         130.386488   \n",
      "11       969.584648        1009.888280        53.702739         140.511664   \n",
      "12     11999.557185       12001.446760       674.542244        1679.681943   \n",
      "\n",
      "    start_external_fuel_cost  upgrade_external_fuel_cost  start_nat_gas_cost  \\\n",
      "0                 163.068493                         0.0           59.842753   \n",
      "1                 147.287671                         0.0           53.884285   \n",
      "2                 163.068493                         0.0           57.722765   \n",
      "3                 157.808219                         0.0           47.077586   \n",
      "4                 163.068493                         0.0           51.971165   \n",
      "5                 157.808219                         0.0           45.713105   \n",
      "6                 163.068493                         0.0           44.446707   \n",
      "7                 163.068493                         0.0           44.565793   \n",
      "8                 157.808219                         0.0           45.356560   \n",
      "9                 163.068493                         0.0           51.200531   \n",
      "10                157.808219                         0.0           51.881963   \n",
      "11                163.068493                         0.0           60.683631   \n",
      "12               1920.000000                         0.0          553.663216   \n",
      "\n",
      "    upgrade_nat_gas_cost  \n",
      "0              29.376718  \n",
      "1              26.452742  \n",
      "2              25.224160  \n",
      "3              17.836653  \n",
      "4              17.221240  \n",
      "5              14.317670  \n",
      "6              13.860730  \n",
      "7              14.003139  \n",
      "8              14.070540  \n",
      "9              16.281809  \n",
      "10             21.952734  \n",
      "11             31.375381  \n",
      "12            210.598134  \n"
     ]
    },
    {
     "name": "stderr",
     "output_type": "stream",
     "text": [
      "C:\\Users\\Rachel\\anaconda3\\lib\\site-packages\\pandas\\core\\indexing.py:1732: SettingWithCopyWarning: \n",
      "A value is trying to be set on a copy of a slice from a DataFrame\n",
      "\n",
      "See the caveats in the documentation: https://pandas.pydata.org/pandas-docs/stable/user_guide/indexing.html#returning-a-view-versus-a-copy\n",
      "  self._setitem_single_block(indexer, value, name)\n"
     ]
    }
   ],
   "source": [
    "### uut for gas for LA city = 8.92% \n",
    "monthly_sums['start_nat_gas_cost'] = 0\n",
    "monthly_sums['upgrade_nat_gas_cost'] = 0\n",
    "gas_tax = 1.0892 ## 8.92% as taken from my old bills -- muni code says 10%, but i think it's because of some restructuring breakdown that its 8.92 instead, only applied to per therm charge\n",
    "for x in range(12):\n",
    "    baseline = gas_prices['Baseline Allowance Z1'].iloc[x]\n",
    "    start_nat_gas_usage = monthly_sums['start_nat_gas_vals'].iloc[x]/29.3\n",
    "    upgrade_nat_gas_usage = monthly_sums['upgrade_nat_gas_vals'].iloc[x]/29.3\n",
    "    ## option 1 - no CARE or lifeline; pay full tax and cost \n",
    "    if inputs.iloc[8,1] == 'None'and (inputs.iloc[7,1] == 'None' or inputs.iloc[7,1] == 'EZ-Save'):\n",
    "        if start_nat_gas_usage <= baseline:\n",
    "            monthly_sums['start_nat_gas_cost'].iloc[x] = gas_prices['Customer Charge'].iloc[x] + gas_tax*(gas_prices['Baseline Procurement_Transmission'].iloc[x]*start_nat_gas_usage +  gas_prices['PPPG'].iloc[x]*start_nat_gas_usage)\n",
    "        else: \n",
    "            monthly_sums['start_nat_gas_cost'].iloc[x] = gas_prices['Customer Charge'].iloc[x] + gas_tax*(gas_prices['Baseline Procurement_Transmission'].iloc[x]*baseline \\\n",
    "                                                                                        + gas_prices['Non-Baseline Procurement_Transmission'].iloc[x]*(start_nat_gas_usage - baseline) + gas_prices['PPPG'].iloc[x]*start_nat_gas_usage)\n",
    "        if upgrade_nat_gas_usage <= baseline:\n",
    "            monthly_sums['upgrade_nat_gas_cost'].iloc[x] = gas_prices['Customer Charge'].iloc[x] + gas_tax*(gas_prices['Baseline Procurement_Transmission'].iloc[x]*upgrade_nat_gas_usage + gas_prices['PPPG'].iloc[x]*upgrade_nat_gas_usage)\n",
    "        else: \n",
    "            monthly_sums['upgrade_nat_gas_cost'].iloc[x] = gas_prices['Customer Charge'].iloc[x] + gas_tax*(gas_prices['Baseline Procurement_Transmission'].iloc[x]*baseline  \\\n",
    "                                                                                        + gas_prices['Non-Baseline Procurement_Transmission'].iloc[x]*(upgrade_nat_gas_usage - baseline) + gas_prices['PPPG'].iloc[x]*upgrade_nat_gas_usage)\n",
    "    ## option 2 - No CARE but lifeline, full cost but no tax \n",
    "    elif inputs.iloc[8,1] == 'None'and inputs.iloc[7,1] == 'Lifeline':\n",
    "        if start_nat_gas_usage <= baseline:\n",
    "            monthly_sums['start_nat_gas_cost'].iloc[x] = gas_prices['Customer Charge'].iloc[x] + (gas_prices['Baseline Procurement_Transmission'].iloc[x]*start_nat_gas_usage +  gas_prices['PPPG'].iloc[x]*start_nat_gas_usage)\n",
    "        else: \n",
    "            monthly_sums['start_nat_gas_cost'].iloc[x] = gas_prices['Customer Charge'].iloc[x] + (gas_prices['Baseline Procurement_Transmission'].iloc[x]*baseline \\\n",
    "                                                                                        + gas_prices['Non-Baseline Procurement_Transmission'].iloc[x]*(start_nat_gas_usage - baseline) + gas_prices['PPPG'].iloc[x]*start_nat_gas_usage)\n",
    "        if upgrade_nat_gas_usage <= baseline:\n",
    "            monthly_sums['upgrade_nat_gas_cost'].iloc[x] = gas_prices['Customer Charge'].iloc[x] + (gas_prices['Baseline Procurement_Transmission'].iloc[x]*upgrade_nat_gas_usage + gas_prices['PPPG'].iloc[x]*upgrade_nat_gas_usage)\n",
    "        else: \n",
    "            monthly_sums['upgrade_nat_gas_cost'].iloc[x] = gas_prices['Customer Charge'].iloc[x] + (gas_prices['Baseline Procurement_Transmission'].iloc[x]*baseline \\\n",
    "                                                                                        + gas_prices['Non-Baseline Procurement_Transmission'].iloc[x]*(upgrade_nat_gas_usage - baseline) + gas_prices['PPPG'].iloc[x]*upgrade_nat_gas_usage)\n",
    "                                                                                                 \n",
    "    ## option 3 = CARE but no lifeline, discount but pays tax\n",
    "    elif inputs.iloc[8,1] == 'CARE' and (inputs.iloc[7,1] == 'None' or inputs.iloc[7,1] == 'EZ-Save'):\n",
    "        if start_nat_gas_usage <= baseline:\n",
    "            monthly_sums['start_nat_gas_cost'].iloc[x] = (gas_prices['Customer Charge'].iloc[x] + gas_tax*(gas_prices['Baseline Procurement_Transmission'].iloc[x]*start_nat_gas_usage + gas_prices['PPPG - CARE'].iloc[x]*start_nat_gas_usage)) * .8\n",
    "        else:\n",
    "            monthly_sums['start_nat_gas_cost'].iloc[x] = (gas_prices['Customer Charge'].iloc[x] + gas_tax*(gas_prices['Baseline Procurement_Transmission'].iloc[x]*baseline \\\n",
    "                                                                                        + gas_prices['Non-Baseline Procurement_Transmission'].iloc[x]*(start_nat_gas_usage - baseline) + gas_prices['PPPG - CARE'].iloc[x]*start_nat_gas_usage))*.8                                              \n",
    "        if upgrade_nat_gas_usage <= baseline:\n",
    "            monthly_sums['upgrade_nat_gas_cost'].iloc[x] = (gas_prices['Customer Charge'].iloc[x] + gas_tax*(gas_prices['Baseline Procurement_Transmission'].iloc[x]*upgrade_nat_gas_usage + gas_prices['PPPG - CARE'].iloc[x]*upgrade_nat_gas_usage)) * .8\n",
    "        else: \n",
    "            monthly_sums['upgrade_nat_gas_cost'].iloc[x] = (gas_prices['Customer Charge'].iloc[x] + gas_tax*(gas_prices['Baseline Procurement_Transmission'].iloc[x]*baseline  +  \\\n",
    "                                                                                         gas_prices['Non-Baseline Procurement_Transmission'].iloc[x]*(upgrade_nat_gas_usage - baseline) + gas_prices['PPPG- CARE'].iloc[x]*upgrade_nat_gas_usage))*.8\n",
    "    ## option 4 - CARE and lifeline, discount and no tax \n",
    "    else:\n",
    "        if start_nat_gas_usage <= baseline:\n",
    "            monthly_sums['start_nat_gas_cost'].iloc[x] = (gas_prices['Customer Charge'].iloc[x] + (gas_prices['Baseline Procurement_Transmission'].iloc[x]*start_nat_gas_usage + gas_prices['PPPG - CARE'].iloc[x]*start_nat_gas_usage)) * .8\n",
    "        else:\n",
    "            monthly_sums['start_nat_gas_cost'].iloc[x] = (gas_prices['Customer Charge'].iloc[x] + (gas_prices['Baseline Procurement_Transmission'].iloc[x]*baseline \\\n",
    "                                                                                        + gas_prices['Non-Baseline Procurement_Transmission'].iloc[x]*(start_nat_gas_usage - baseline) + gas_prices['PPPG - CARE'].iloc[x]*start_nat_gas_usage))*.8 \n",
    "        if upgrade_nat_gas_usage <= baseline:\n",
    "            monthly_sums['upgrade_nat_gas_cost'].iloc[x] = (gas_prices['Customer Charge'].iloc[x] + (gas_prices['Baseline Procurement_Transmission'].iloc[x]*upgrade_nat_gas_usage + gas_prices['PPPG - CARE'].iloc[x]*upgrade_nat_gas_usage)) * .8\n",
    "        else: \n",
    "            monthly_sums['upgrade_nat_gas_cost'].iloc[x] = (gas_prices['Customer Charge'].iloc[x] + (gas_prices['Baseline Procurement_Transmission'].iloc[x]*baseline  +  \\\n",
    "                                                                                         gas_prices['Non-Baseline Procurement_Transmission'].iloc[x]*(upgrade_nat_gas_usage - baseline) + gas_prices['PPPG- CARE'].iloc[x]*upgrade_nat_gas_usage))*.8\n",
    "    monthly_sums['upgrade_nat_gas_cost'].iloc[x] = 0 if monthly_sums['upgrade_nat_gas_cost'].iloc[x] <= 8 else monthly_sums['upgrade_nat_gas_cost'].iloc[x]\n",
    "    monthly_sums['upgrade_nat_gas_cost'].iloc[x] = 0 if monthly_sums['upgrade_nat_gas_cost'].iloc[x] <= 8 else monthly_sums['upgrade_nat_gas_cost'].iloc[x]\n",
    "monthly_sums['start_nat_gas_cost'].iloc[12] = monthly_sums['start_nat_gas_cost'].iloc[0:11].sum()\n",
    "monthly_sums['upgrade_nat_gas_cost'].iloc[12] = monthly_sums['upgrade_nat_gas_cost'].iloc[0:11].sum()\n",
    "print(monthly_sums)"
   ]
  },
  {
   "cell_type": "code",
   "execution_count": 29,
   "id": "930e7d12",
   "metadata": {},
   "outputs": [
    {
     "data": {
      "image/png": "[encoded data removed]",
      "text/plain": [
       "<Figure size 864x576 with 1 Axes>"
      ]
     },
     "metadata": {
      "needs_background": "dark"
     },
     "output_type": "display_data"
    }
   ],
   "source": [
    "# set width of bar\n",
    "barWidth = 0.25\n",
    "fig = plt.subplots(figsize =(12, 8))\n",
    " \n",
    "# set height of bar\n",
    "starting_cost = monthly_sums['start_nat_gas_cost'][:-1]\n",
    "upgrade_cost = monthly_sums['upgrade_nat_gas_cost'][:-1]\n",
    "\n",
    " \n",
    "# Set position of bar on X axis\n",
    "br1 = np.arange(len(starting_cost))\n",
    "br2 = [x + barWidth for x in br1]\n",
    " \n",
    "# Make the plot\n",
    "plt.bar(br1, starting_cost, width = barWidth,\n",
    "        edgecolor ='grey', label ='Start Cost')\n",
    "plt.bar(br2, upgrade_cost,  width = barWidth,\n",
    "        edgecolor ='grey', label ='Upgrade Cost')\n",
    " \n",
    "# Adding Xticks\n",
    "plt.xlabel('Month', fontweight ='bold', fontsize = 12, color = 'white')\n",
    "plt.ylabel('Cost ($)', fontweight ='bold', fontsize = 15, color = 'white')\n",
    "plt.xticks([r + barWidth for r in range(len(starting_cost))],\n",
    "        ['January', 'February', 'March', 'April', 'May','June','July','August','September','October','November','December'])\n",
    "\n",
    "plt.xticks(rotation=45, color = 'white')\n",
    "plt.yticks(color = 'white')\n",
    "plt.title('Monthly Natural Gas Cost - ' + start + \" vs. \" + upgrade_only, fontweight = 'bold', color = 'white')\n",
    "plt.legend()\n",
    "plt.show()"
   ]
  },
  {
   "cell_type": "markdown",
   "id": "032b3d80",
   "metadata": {},
   "source": [
    "Visualing Natural Gas Bills "
   ]
  },
  {
   "cell_type": "code",
   "execution_count": 30,
   "id": "21a30111",
   "metadata": {},
   "outputs": [
    {
     "name": "stdout",
     "output_type": "stream",
     "text": [
      "+-----------+------------------+--------------------+\n",
      "| Month     | Bill Pre Upgrade | Bill After Upgrade |\n",
      "+-----------+------------------+--------------------+\n",
      "| January   | $59.84           | $29.38             |\n",
      "| February  | $53.88           | $26.45             |\n",
      "| March     | $57.72           | $25.22             |\n",
      "| April     | $47.08           | $17.84             |\n",
      "| May       | $51.97           | $17.22             |\n",
      "| June      | $45.71           | $14.32             |\n",
      "| July      | $44.45           | $13.86             |\n",
      "| August    | $44.57           | $14.00             |\n",
      "| September | $45.36           | $14.07             |\n",
      "| October   | $51.20           | $16.28             |\n",
      "| November  | $51.88           | $21.95             |\n",
      "| December  | $60.68           | $31.38             |\n",
      "| Total     | $553.66          | $210.60            |\n",
      "+-----------+------------------+--------------------+\n"
     ]
    }
   ],
   "source": [
    "### presenting natural gas pricing \n",
    "\n",
    "from prettytable import PrettyTable\n",
    "table = PrettyTable()\n",
    "column_names = [\"Month\", \"Bill Pre Upgrade\", \"Bill After Upgrade\"]\n",
    "data_columns =[\n",
    "     ['January', 'February', 'March', 'April', 'May','June','July','August','September','October','November','December','Total'],\n",
    "    monthly_sums['start_nat_gas_cost'],\n",
    "    monthly_sums['upgrade_nat_gas_cost']\n",
    "    ]\n",
    "# Add columns to the table\n",
    "for name, data in zip(column_names, data_columns):\n",
    "    table.add_column(name, data)\n",
    "\n",
    "# Align columns to the left\n",
    "for name in column_names:\n",
    "    table.align[name] = \"l\"\n",
    "\n",
    "# Format the salary column as dollars and cents\n",
    "starting_column_index = column_names.index('Bill Pre Upgrade')\n",
    "for row in table._rows:\n",
    "    row[starting_column_index] = \"${:.2f}\".format(float(row[starting_column_index]))\n",
    "    \n",
    "# Format the salary column as dollars and cents\n",
    "upgrade_column_index = column_names.index('Bill After Upgrade')\n",
    "for row in table._rows:\n",
    "    row[upgrade_column_index] = \"${:.2f}\".format(float(row[upgrade_column_index]))\n",
    "    \n",
    "# Add a horizontal line after the header row\n",
    "table.horizontal_char = '-'\n",
    "\n",
    "# Add a vertical line between columns\n",
    "table.vertical_char = '|'\n",
    "\n",
    "# Add an intersection character between the columns and the header row\n",
    "table.junction_char = '+'\n",
    "\n",
    "# Print the table\n",
    "print(table)"
   ]
  },
  {
   "cell_type": "markdown",
   "id": "8643ec05",
   "metadata": {},
   "source": [
    "Visualizing Total Payments Before and After "
   ]
  },
  {
   "cell_type": "code",
   "execution_count": 31,
   "id": "554b440e",
   "metadata": {},
   "outputs": [],
   "source": [
    "## add in new columns for total costs \n",
    "monthly_sums['start_total_cost'] = monthly_sums['start_elec_cost'] + monthly_sums['start_nat_gas_cost'] + monthly_sums['start_external_fuel_cost']\n",
    "monthly_sums['upgrade_total_cost'] = monthly_sums['upgrade_elec_cost'] + monthly_sums['upgrade_nat_gas_cost'] + monthly_sums['upgrade_external_fuel_cost']"
   ]
  },
  {
   "cell_type": "code",
   "execution_count": 32,
   "id": "4fd66647",
   "metadata": {},
   "outputs": [
    {
     "data": {
      "image/png": "[encoded data removed]",
      "text/plain": [
       "<Figure size 864x576 with 1 Axes>"
      ]
     },
     "metadata": {
      "needs_background": "dark"
     },
     "output_type": "display_data"
    }
   ],
   "source": [
    "# set width of bar\n",
    "barWidth = 0.25\n",
    "fig = plt.subplots(figsize =(12, 8))\n",
    " \n",
    "# set height of bar\n",
    "starting_cost = monthly_sums['start_total_cost'][:-1]\n",
    "upgrade_cost = monthly_sums['upgrade_total_cost'][:-1]\n",
    "\n",
    " \n",
    "# Set position of bar on X axis\n",
    "br1 = np.arange(len(starting_cost))\n",
    "br2 = [x + barWidth for x in br1]\n",
    " \n",
    "# Make the plot\n",
    "plt.bar(br1, starting_cost, width = barWidth,\n",
    "        edgecolor ='grey', label ='Start Cost')\n",
    "plt.bar(br2, upgrade_cost,  width = barWidth,\n",
    "        edgecolor ='grey', label ='Upgrade Cost')\n",
    " \n",
    "# Adding Xticks\n",
    "plt.xlabel('Month', fontweight ='bold', fontsize = 12, color = 'white')\n",
    "plt.ylabel('Cost ($)', fontweight ='bold', fontsize = 15, color = 'white')\n",
    "plt.xticks([r + barWidth for r in range(len(starting_cost))],\n",
    "        ['January', 'February', 'March', 'April', 'May','June','July','August','September','October','November','December'])\n",
    "\n",
    "plt.xticks(rotation=45, color = 'white')\n",
    "plt.yticks(color = 'white')\n",
    "plt.title('Monthly Gas and Elect Cost - ' + start + \" vs. \" + upgrade_only, fontweight = 'bold', color = 'white')\n",
    "plt.legend()\n",
    "plt.show()"
   ]
  },
  {
   "cell_type": "code",
   "execution_count": 33,
   "id": "4107ec9e",
   "metadata": {},
   "outputs": [
    {
     "name": "stdout",
     "output_type": "stream",
     "text": [
      "+-----------+-------------------+---------------------+\n",
      "| Month     | Bills Pre Upgrade | Bills After Upgrade |\n",
      "+-----------+-------------------+---------------------+\n",
      "| January   | $276.36           | $168.22             |\n",
      "| February  | $249.73           | $150.52             |\n",
      "| March     | $270.84           | $158.82             |\n",
      "| April     | $255.34           | $147.67             |\n",
      "| May       | $266.66           | $151.17             |\n",
      "| June      | $259.14           | $149.82             |\n",
      "| July      | $280.61           | $178.29             |\n",
      "| August    | $279.21           | $176.53             |\n",
      "| September | $266.02           | $162.92             |\n",
      "| October   | $268.39           | $153.48             |\n",
      "| November  | $259.14           | $152.34             |\n",
      "| December  | $277.45           | $171.89             |\n",
      "| Total     | $3148.21          | $1890.28            |\n",
      "+-----------+-------------------+---------------------+\n"
     ]
    }
   ],
   "source": [
    "### presenting natural gas pricing \n",
    "\n",
    "from prettytable import PrettyTable\n",
    "table = PrettyTable()\n",
    "column_names = [\"Month\", \"Bills Pre Upgrade\", \"Bills After Upgrade\"]\n",
    "data_columns =[\n",
    "     ['January', 'February', 'March', 'April', 'May','June','July','August','September','October','November','December','Total'],\n",
    "    monthly_sums['start_total_cost'],\n",
    "    monthly_sums['upgrade_total_cost']\n",
    "    ]\n",
    "# Add columns to the table\n",
    "for name, data in zip(column_names, data_columns):\n",
    "    table.add_column(name, data)\n",
    "\n",
    "# Align columns to the left\n",
    "for name in column_names:\n",
    "    table.align[name] = \"l\"\n",
    "\n",
    "# Format the salary column as dollars and cents\n",
    "starting_column_index = column_names.index('Bills Pre Upgrade')\n",
    "for row in table._rows:\n",
    "    row[starting_column_index] = \"${:.2f}\".format(float(row[starting_column_index]))\n",
    "    \n",
    "# Format the salary column as dollars and cents\n",
    "upgrade_column_index = column_names.index('Bills After Upgrade')\n",
    "for row in table._rows:\n",
    "    row[upgrade_column_index] = \"${:.2f}\".format(float(row[upgrade_column_index]))\n",
    "    \n",
    "# Add a horizontal line after the header row\n",
    "table.horizontal_char = '-'\n",
    "\n",
    "# Add a vertical line between columns\n",
    "table.vertical_char = '|'\n",
    "\n",
    "# Add an intersection character between the columns and the header row\n",
    "table.junction_char = '+'\n",
    "\n",
    "# Print the table\n",
    "print(table)"
   ]
  },
  {
   "cell_type": "code",
   "execution_count": 34,
   "id": "b883569c",
   "metadata": {},
   "outputs": [
    {
     "name": "stdout",
     "output_type": "stream",
     "text": [
      "Customer energy burden before upgrade is: 6.30%.\n",
      "Customer energy burden after upgrade is: 3.78%.\n"
     ]
    }
   ],
   "source": [
    "### calculating energy burden with total bill\n",
    "income = inputs.iloc[6,1]\n",
    "start_elec_cost = monthly_sums['start_total_cost'].iloc[12]\n",
    "upgrade_elec_cost = monthly_sums['upgrade_total_cost'].iloc[12]\n",
    "start_burden = start_elec_cost/income\n",
    "upgrade_burden = upgrade_elec_cost/income\n",
    "formatted_start_burden  = \"{:.2%}\".format(start_burden)\n",
    "formatted_upgrade_burden = \"{:.2%}\".format(upgrade_burden)\n",
    "print(\"Customer energy burden before upgrade is: \" + formatted_start_burden + \".\")\n",
    "print(\"Customer energy burden after upgrade is: \" + formatted_upgrade_burden + \".\")"
   ]
  },
  {
   "cell_type": "code",
   "execution_count": null,
   "id": "a5a67a77",
   "metadata": {},
   "outputs": [],
   "source": []
  },
  {
   "cell_type": "code",
   "execution_count": null,
   "id": "2a129919",
   "metadata": {},
   "outputs": [],
   "source": []
  },
  {
   "cell_type": "code",
   "execution_count": null,
   "id": "b0fb45cf",
   "metadata": {},
   "outputs": [],
   "source": []
  }
 ],
 "metadata": {
  "kernelspec": {
   "display_name": "Python 3 (ipykernel)",
   "language": "python",
   "name": "python3"
  },
  "language_info": {
   "codemirror_mode": {
    "name": "ipython",
    "version": 3
   },
   "file_extension": ".py",
   "mimetype": "text/x-python",
   "name": "python",
   "nbconvert_exporter": "python",
   "pygments_lexer": "ipython3",
   "version": "3.9.7"
  }
 },
 "nbformat": 4,
 "nbformat_minor": 5
}
