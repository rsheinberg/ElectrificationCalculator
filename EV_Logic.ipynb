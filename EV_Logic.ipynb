{
 "cells": [
  {
   "cell_type": "markdown",
   "id": "87d20e11",
   "metadata": {},
   "source": [
    "Note: Defining Logic for EV Usage and Load (Don't need NREL loads) \n",
    "July 2023\n",
    "Rachel Sheinberg"
   ]
  },
  {
   "cell_type": "markdown",
   "id": "00277a0a",
   "metadata": {},
   "source": [
    "Step 1: Import Data from Current Interface Type (Excel Spreadsheet)"
   ]
  },
  {
   "cell_type": "code",
   "execution_count": null,
   "id": "e9b31904",
   "metadata": {},
   "outputs": [],
   "source": []
  }
 ],
 "metadata": {
  "kernelspec": {
   "display_name": "Python 3 (ipykernel)",
   "language": "python",
   "name": "python3"
  },
  "language_info": {
   "codemirror_mode": {
    "name": "ipython",
    "version": 3
   },
   "file_extension": ".py",
   "mimetype": "text/x-python",
   "name": "python",
   "nbconvert_exporter": "python",
   "pygments_lexer": "ipython3",
   "version": "3.9.7"
  }
 },
 "nbformat": 4,
 "nbformat_minor": 5
}
